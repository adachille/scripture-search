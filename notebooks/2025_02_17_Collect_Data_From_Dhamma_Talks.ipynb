{
 "cells": [
  {
   "cell_type": "markdown",
   "id": "b9ae4037-917d-4003-a2b1-72aba3e2708e",
   "metadata": {},
   "source": [
    "# 2025-02-17 Collect Data from Dhamma Talks\n",
    "In this notebook, we will collect data from the Dhamma Talks website. "
   ]
  },
  {
   "cell_type": "code",
   "execution_count": 4,
   "id": "0c35e870",
   "metadata": {},
   "outputs": [],
   "source": [
    "import requests\n",
    "from bs4 import BeautifulSoup\n"
   ]
  },
  {
   "cell_type": "code",
   "execution_count": null,
   "id": "3039bf8b",
   "metadata": {},
   "outputs": [],
   "source": [
    "BASE_URL = \"https://www.dhammatalks.org\"\n",
    "DHAMMA_TALKS_DN_URL = BASE_URL + \"/suttas/DN\"\n",
    "INDEX_PAGE_EXTENSIONS = [\"/suttas/AN\", \"/suttas/DN\", \"/suttas/KN\", \"/suttas/MN/\", \"/suttas/SN/\"]\n",
    "INDEX_PAGE_URLS = [BASE_URL + ext for ext in INDEX_PAGE_EXTENSIONS]"
   ]
  },
  {
   "cell_type": "code",
   "execution_count": 20,
   "id": "1613d705",
   "metadata": {},
   "outputs": [
    {
     "name": "stdout",
     "output_type": "stream",
     "text": [
      "Index page URL: https://www.dhammatalks.org/suttas/AN example pages:\n",
      "  Sutta page link: /suttas/AN/AN1_21.html\n",
      "  Sutta page link: /suttas/AN/AN1_45.html\n",
      "  Sutta page link: /suttas/AN/AN1_48.html\n",
      "Index page URL: https://www.dhammatalks.org/suttas/DN example pages:\n",
      "  Sutta page link: /suttas/DN/DN01.html\n",
      "  Sutta page link: /suttas/DN/DN02.html\n",
      "  Sutta page link: /suttas/DN/DN09.html\n",
      "Index page URL: https://www.dhammatalks.org/suttas/KN example pages:\n",
      "  Sutta page link: /suttas/KN/Khp/\n",
      "  Sutta page link: /suttas/KN/Dhp/\n",
      "  Sutta page link: /suttas/KN/Ud/\n",
      "Index page URL: https://www.dhammatalks.org/suttas/MN/ example pages:\n",
      "  Sutta page link: #MN33\n",
      "  Sutta page link: #MN66\n",
      "  Sutta page link: #MN111\n",
      "Index page URL: https://www.dhammatalks.org/suttas/SN/ example pages:\n",
      "  Sutta page link: /suttas/SN/SN1_1.html\n",
      "  Sutta page link: /suttas/SN/SN1_2.html\n",
      "  Sutta page link: /suttas/SN/SN1_7.html\n"
     ]
    }
   ],
   "source": [
    "index_page_to_sutta_page_links = {}\n",
    "for index_page_url in INDEX_PAGE_URLS:\n",
    "    index_page = BeautifulSoup(requests.get(index_page_url).text, \"html.parser\")\n",
    "    index_toc = index_page.find(\"div\", class_=\"suttatoc\")\n",
    "    sutta_page_links = [anchor[\"href\"] for anchor in index_toc.find_all(\"a\")]\n",
    "    index_page_to_sutta_page_links[index_page_url] = sutta_page_links\n",
    "\n",
    "for index_page_url, sutta_page_links in index_page_to_sutta_page_links.items():\n",
    "    print(f\"Index page URL: {index_page_url} example pages:\")\n",
    "    for sutta_page_link in sutta_page_links[:3]:\n",
    "        print(f\"  Sutta page link: {sutta_page_link}\")"
   ]
  }
 ],
 "metadata": {
  "kernelspec": {
   "display_name": "scripture-search-lnLPRKux-py3.13",
   "language": "python",
   "name": "python3"
  },
  "language_info": {
   "codemirror_mode": {
    "name": "ipython",
    "version": 3
   },
   "file_extension": ".py",
   "mimetype": "text/x-python",
   "name": "python",
   "nbconvert_exporter": "python",
   "pygments_lexer": "ipython3",
   "version": "3.13.2"
  }
 },
 "nbformat": 4,
 "nbformat_minor": 5
}
