{
 "cells": [
  {
   "cell_type": "markdown",
   "id": "b9ae4037-917d-4003-a2b1-72aba3e2708e",
   "metadata": {},
   "source": [
    "# 2025-03-02 Collect Data from Dhamma Talks\n",
    "In this notebook, we will collect data from the Dhamma Talks website. "
   ]
  },
  {
   "cell_type": "code",
   "execution_count": 1,
   "id": "00f84305",
   "metadata": {},
   "outputs": [],
   "source": [
    "%load_ext autoreload\n",
    "%autoreload 2"
   ]
  },
  {
   "cell_type": "code",
   "execution_count": 2,
   "id": "0c35e870",
   "metadata": {},
   "outputs": [
    {
     "name": "stderr",
     "output_type": "stream",
     "text": [
      "c:\\Users\\Redux\\code\\scripture-search\\.venv\\Lib\\site-packages\\tqdm\\auto.py:21: TqdmWarning: IProgress not found. Please update jupyter and ipywidgets. See https://ipywidgets.readthedocs.io/en/stable/user_install.html\n",
      "  from .autonotebook import tqdm as notebook_tqdm\n"
     ]
    }
   ],
   "source": [
    "import requests\n",
    "from dataclasses import dataclass\n",
    "from time import sleep\n",
    "\n",
    "import pandas as pd\n",
    "from bs4 import BeautifulSoup\n",
    "from tqdm.auto import tqdm\n",
    "\n",
    "from scripture_search.config import Config\n",
    "\n",
    "\n",
    "config = Config()"
   ]
  },
  {
   "cell_type": "code",
   "execution_count": 3,
   "id": "3039bf8b",
   "metadata": {},
   "outputs": [],
   "source": [
    "BASE_URL = \"https://www.dhammatalks.org\"\n",
    "DHAMMA_TALKS_DN_URL = BASE_URL + \"/suttas/DN\"\n",
    "INDEX_PAGE_EXTENSIONS = [\n",
    "    \"/suttas/AN\",\n",
    "    \"/suttas/DN\",\n",
    "    \"/suttas/KN\",\n",
    "    \"/suttas/MN/\",\n",
    "    \"/suttas/SN/\",\n",
    "]\n",
    "INDEX_PAGE_URLS = [BASE_URL + ext for ext in INDEX_PAGE_EXTENSIONS]"
   ]
  },
  {
   "cell_type": "code",
   "execution_count": 4,
   "id": "1613d705",
   "metadata": {},
   "outputs": [
    {
     "name": "stdout",
     "output_type": "stream",
     "text": [
      "Index page URL: https://www.dhammatalks.org/suttas/AN example pages:\n",
      "  Sutta page link: https://www.dhammatalks.org/suttas/AN/AN1_21.html\n",
      "  Sutta page link: https://www.dhammatalks.org/suttas/AN/AN1_45.html\n",
      "  Sutta page link: https://www.dhammatalks.org/suttas/AN/AN1_48.html\n",
      "Index page URL: https://www.dhammatalks.org/suttas/DN example pages:\n",
      "  Sutta page link: https://www.dhammatalks.org/suttas/DN/DN01.html\n",
      "  Sutta page link: https://www.dhammatalks.org/suttas/DN/DN02.html\n",
      "  Sutta page link: https://www.dhammatalks.org/suttas/DN/DN09.html\n",
      "Index page URL: https://www.dhammatalks.org/suttas/KN example pages:\n",
      "Index page URL: https://www.dhammatalks.org/suttas/MN/ example pages:\n",
      "  Sutta page link: https://www.dhammatalks.org/suttas/MN/MN_syllabus.html\n",
      "  Sutta page link: https://www.dhammatalks.org/suttas/MN/MN_syllabus.html\n",
      "  Sutta page link: https://www.dhammatalks.org/suttas/MN/MN1.html\n",
      "Index page URL: https://www.dhammatalks.org/suttas/SN/ example pages:\n",
      "  Sutta page link: https://www.dhammatalks.org/suttas/SN/SN1_1.html\n",
      "  Sutta page link: https://www.dhammatalks.org/suttas/SN/SN1_2.html\n",
      "  Sutta page link: https://www.dhammatalks.org/suttas/SN/SN1_7.html\n"
     ]
    }
   ],
   "source": [
    "index_page_to_sutta_page_links = {}\n",
    "for index_page_url in INDEX_PAGE_URLS:\n",
    "    index_page = BeautifulSoup(requests.get(index_page_url).text, \"html.parser\")\n",
    "    index_toc = index_page.find(\"div\", class_=\"suttatoc\")\n",
    "    sutta_page_links = [\n",
    "        BASE_URL + anchor[\"href\"]\n",
    "        for anchor in index_toc.find_all(\"a\")\n",
    "        if \".html\" in anchor[\"href\"]\n",
    "    ]\n",
    "    index_page_to_sutta_page_links[index_page_url] = sutta_page_links\n",
    "\n",
    "for index_page_url, sutta_page_links in index_page_to_sutta_page_links.items():\n",
    "    print(f\"Index page URL: {index_page_url} example pages:\")\n",
    "    for sutta_page_link in sutta_page_links[:3]:\n",
    "        print(f\"  Sutta page link: {sutta_page_link}\")"
   ]
  },
  {
   "cell_type": "code",
   "execution_count": 5,
   "id": "81795751-1f6c-4ec2-95a1-2f5a3eca0757",
   "metadata": {},
   "outputs": [
    {
     "name": "stderr",
     "output_type": "stream",
     "text": [
      "  0%|          | 0/5 [00:00<?, ?it/s]"
     ]
    },
    {
     "name": "stdout",
     "output_type": "stream",
     "text": [
      "Index page URL: https://www.dhammatalks.org/suttas/AN\n"
     ]
    },
    {
     "name": "stderr",
     "output_type": "stream",
     "text": [
      "100%|██████████| 7/7 [00:02<00:00,  2.92it/s]\n",
      " 20%|██        | 1/5 [00:02<00:09,  2.40s/it]"
     ]
    },
    {
     "name": "stdout",
     "output_type": "stream",
     "text": [
      "Index page URL: https://www.dhammatalks.org/suttas/DN\n"
     ]
    },
    {
     "name": "stderr",
     "output_type": "stream",
     "text": [
      "100%|██████████| 14/14 [00:05<00:00,  2.67it/s]\n",
      " 40%|████      | 2/5 [00:07<00:12,  4.08s/it]"
     ]
    },
    {
     "name": "stdout",
     "output_type": "stream",
     "text": [
      "Index page URL: https://www.dhammatalks.org/suttas/KN\n"
     ]
    },
    {
     "name": "stderr",
     "output_type": "stream",
     "text": [
      "0it [00:00, ?it/s]\n"
     ]
    },
    {
     "name": "stdout",
     "output_type": "stream",
     "text": [
      "Index page URL: https://www.dhammatalks.org/suttas/MN/\n"
     ]
    },
    {
     "name": "stderr",
     "output_type": "stream",
     "text": [
      "100%|██████████| 111/111 [00:38<00:00,  2.86it/s]\n",
      " 80%|████████  | 4/5 [00:46<00:13, 13.67s/it]"
     ]
    },
    {
     "name": "stdout",
     "output_type": "stream",
     "text": [
      "Index page URL: https://www.dhammatalks.org/suttas/SN/\n"
     ]
    },
    {
     "name": "stderr",
     "output_type": "stream",
     "text": [
      "100%|██████████| 108/108 [00:36<00:00,  2.94it/s]\n",
      "100%|██████████| 5/5 [01:23<00:00, 16.64s/it]\n"
     ]
    }
   ],
   "source": [
    "@dataclass\n",
    "class SuttaText:\n",
    "    collection: str\n",
    "    title: str\n",
    "    paragraphs: list[str]\n",
    "    url_source: str\n",
    "\n",
    "\n",
    "data = []\n",
    "for index_page_url, sutta_page_links in tqdm(index_page_to_sutta_page_links.items()):\n",
    "    collection = list(filter(lambda x: len(x) > 0, index_page_url.split(\"/\")))[-1]\n",
    "    print(f\"Index page URL: {index_page_url}\")\n",
    "    for sutta_page_link in tqdm(sutta_page_links):\n",
    "        sutta_page = BeautifulSoup(requests.get(sutta_page_link).text, \"html.parser\")\n",
    "        sutta_body = sutta_page.find(\"div\", id=\"sutta\")\n",
    "        sutta_title = sutta_body.find(\"h1\").text.split(\"\\n\")[0].strip()\n",
    "        sutta_paragraphs = [p.text.strip() for p in sutta_body.find_all(\"p\")]\n",
    "        data.append(\n",
    "            SuttaText(\n",
    "                collection,\n",
    "                sutta_title,\n",
    "                sutta_paragraphs,\n",
    "                sutta_page_link,\n",
    "            )\n",
    "        )\n",
    "        sleep(0.25)"
   ]
  },
  {
   "cell_type": "code",
   "execution_count": 9,
   "id": "f14879c9",
   "metadata": {},
   "outputs": [
    {
     "data": {
      "text/html": [
       "<div>\n",
       "<style scoped>\n",
       "    .dataframe tbody tr th:only-of-type {\n",
       "        vertical-align: middle;\n",
       "    }\n",
       "\n",
       "    .dataframe tbody tr th {\n",
       "        vertical-align: top;\n",
       "    }\n",
       "\n",
       "    .dataframe thead th {\n",
       "        text-align: right;\n",
       "    }\n",
       "</style>\n",
       "<table border=\"1\" class=\"dataframe\">\n",
       "  <thead>\n",
       "    <tr style=\"text-align: right;\">\n",
       "      <th></th>\n",
       "      <th>collection</th>\n",
       "      <th>title</th>\n",
       "      <th>paragraphs</th>\n",
       "      <th>url_source</th>\n",
       "      <th>religion</th>\n",
       "      <th>subgroup</th>\n",
       "      <th>source</th>\n",
       "      <th>translation_source</th>\n",
       "    </tr>\n",
       "  </thead>\n",
       "  <tbody>\n",
       "    <tr>\n",
       "      <th>0</th>\n",
       "      <td>AN</td>\n",
       "      <td>A Single Thing</td>\n",
       "      <td>[21. âI donât envision a single thing that...</td>\n",
       "      <td>https://www.dhammatalks.org/suttas/AN/AN1_21.html</td>\n",
       "      <td>Buddhism</td>\n",
       "      <td>Theravada</td>\n",
       "      <td>Dhamma Talks</td>\n",
       "      <td>Thanissaro Bhikkhu</td>\n",
       "    </tr>\n",
       "    <tr>\n",
       "      <th>1</th>\n",
       "      <td>AN</td>\n",
       "      <td>A Pool of Water</td>\n",
       "      <td>[45. âSuppose there were a pool of waterâs...</td>\n",
       "      <td>https://www.dhammatalks.org/suttas/AN/AN1_45.html</td>\n",
       "      <td>Buddhism</td>\n",
       "      <td>Theravada</td>\n",
       "      <td>Dhamma Talks</td>\n",
       "      <td>Thanissaro Bhikkhu</td>\n",
       "    </tr>\n",
       "    <tr>\n",
       "      <th>2</th>\n",
       "      <td>AN</td>\n",
       "      <td>Soft</td>\n",
       "      <td>[âJust as, of all trees, the balsam is forem...</td>\n",
       "      <td>https://www.dhammatalks.org/suttas/AN/AN1_48.html</td>\n",
       "      <td>Buddhism</td>\n",
       "      <td>Theravada</td>\n",
       "      <td>Dhamma Talks</td>\n",
       "      <td>Thanissaro Bhikkhu</td>\n",
       "    </tr>\n",
       "    <tr>\n",
       "      <th>3</th>\n",
       "      <td>AN</td>\n",
       "      <td>Quick to Reverse Itself</td>\n",
       "      <td>[âI donât envision a single thing that is ...</td>\n",
       "      <td>https://www.dhammatalks.org/suttas/AN/AN1_49.html</td>\n",
       "      <td>Buddhism</td>\n",
       "      <td>Theravada</td>\n",
       "      <td>Dhamma Talks</td>\n",
       "      <td>Thanissaro Bhikkhu</td>\n",
       "    </tr>\n",
       "    <tr>\n",
       "      <th>4</th>\n",
       "      <td>AN</td>\n",
       "      <td>Luminous</td>\n",
       "      <td>[âLuminous, monks, is the mind.1 And it is d...</td>\n",
       "      <td>https://www.dhammatalks.org/suttas/AN/AN1_50.html</td>\n",
       "      <td>Buddhism</td>\n",
       "      <td>Theravada</td>\n",
       "      <td>Dhamma Talks</td>\n",
       "      <td>Thanissaro Bhikkhu</td>\n",
       "    </tr>\n",
       "    <tr>\n",
       "      <th>...</th>\n",
       "      <td>...</td>\n",
       "      <td>...</td>\n",
       "      <td>...</td>\n",
       "      <td>...</td>\n",
       "      <td>...</td>\n",
       "      <td>...</td>\n",
       "      <td>...</td>\n",
       "      <td>...</td>\n",
       "    </tr>\n",
       "    <tr>\n",
       "      <th>235</th>\n",
       "      <td>SN</td>\n",
       "      <td>Victory Through What is Well Spoken</td>\n",
       "      <td>[On one occasion the Blessed One was staying n...</td>\n",
       "      <td>https://www.dhammatalks.org/suttas/SN/SN11_5.html</td>\n",
       "      <td>Buddhism</td>\n",
       "      <td>Theravada</td>\n",
       "      <td>Dhamma Talks</td>\n",
       "      <td>Thanissaro Bhikkhu</td>\n",
       "    </tr>\n",
       "    <tr>\n",
       "      <th>236</th>\n",
       "      <td>SN</td>\n",
       "      <td>Poor</td>\n",
       "      <td>[On one occasion the Blessed One was staying n...</td>\n",
       "      <td>https://www.dhammatalks.org/suttas/SN/SN11_14....</td>\n",
       "      <td>Buddhism</td>\n",
       "      <td>Theravada</td>\n",
       "      <td>Dhamma Talks</td>\n",
       "      <td>Thanissaro Bhikkhu</td>\n",
       "    </tr>\n",
       "    <tr>\n",
       "      <th>237</th>\n",
       "      <td>SN</td>\n",
       "      <td>A Delightful Place</td>\n",
       "      <td>[On one occasion the Blessed One was staying n...</td>\n",
       "      <td>https://www.dhammatalks.org/suttas/SN/SN11_15....</td>\n",
       "      <td>Buddhism</td>\n",
       "      <td>Theravada</td>\n",
       "      <td>Dhamma Talks</td>\n",
       "      <td>Thanissaro Bhikkhu</td>\n",
       "    </tr>\n",
       "    <tr>\n",
       "      <th>238</th>\n",
       "      <td>SN</td>\n",
       "      <td>Ugly</td>\n",
       "      <td>[Near SÄvatthÄ«. âOnce, monks, a certain ya...</td>\n",
       "      <td>https://www.dhammatalks.org/suttas/SN/SN11_22....</td>\n",
       "      <td>Buddhism</td>\n",
       "      <td>Theravada</td>\n",
       "      <td>Dhamma Talks</td>\n",
       "      <td>Thanissaro Bhikkhu</td>\n",
       "    </tr>\n",
       "    <tr>\n",
       "      <th>239</th>\n",
       "      <td>SN</td>\n",
       "      <td>A Transgression</td>\n",
       "      <td>[On one occasion the Blessed One was staying n...</td>\n",
       "      <td>https://www.dhammatalks.org/suttas/SN/SN11_24....</td>\n",
       "      <td>Buddhism</td>\n",
       "      <td>Theravada</td>\n",
       "      <td>Dhamma Talks</td>\n",
       "      <td>Thanissaro Bhikkhu</td>\n",
       "    </tr>\n",
       "  </tbody>\n",
       "</table>\n",
       "<p>240 rows × 8 columns</p>\n",
       "</div>"
      ],
      "text/plain": [
       "    collection                                title  \\\n",
       "0           AN                       A Single Thing   \n",
       "1           AN                      A Pool of Water   \n",
       "2           AN                                 Soft   \n",
       "3           AN              Quick to Reverse Itself   \n",
       "4           AN                             Luminous   \n",
       "..         ...                                  ...   \n",
       "235         SN  Victory Through What is Well Spoken   \n",
       "236         SN                                 Poor   \n",
       "237         SN                   A Delightful Place   \n",
       "238         SN                                 Ugly   \n",
       "239         SN                      A Transgression   \n",
       "\n",
       "                                            paragraphs  \\\n",
       "0    [21. âI donât envision a single thing that...   \n",
       "1    [45. âSuppose there were a pool of waterâs...   \n",
       "2    [âJust as, of all trees, the balsam is forem...   \n",
       "3    [âI donât envision a single thing that is ...   \n",
       "4    [âLuminous, monks, is the mind.1 And it is d...   \n",
       "..                                                 ...   \n",
       "235  [On one occasion the Blessed One was staying n...   \n",
       "236  [On one occasion the Blessed One was staying n...   \n",
       "237  [On one occasion the Blessed One was staying n...   \n",
       "238  [Near SÄvatthÄ«. âOnce, monks, a certain ya...   \n",
       "239  [On one occasion the Blessed One was staying n...   \n",
       "\n",
       "                                            url_source  religion   subgroup  \\\n",
       "0    https://www.dhammatalks.org/suttas/AN/AN1_21.html  Buddhism  Theravada   \n",
       "1    https://www.dhammatalks.org/suttas/AN/AN1_45.html  Buddhism  Theravada   \n",
       "2    https://www.dhammatalks.org/suttas/AN/AN1_48.html  Buddhism  Theravada   \n",
       "3    https://www.dhammatalks.org/suttas/AN/AN1_49.html  Buddhism  Theravada   \n",
       "4    https://www.dhammatalks.org/suttas/AN/AN1_50.html  Buddhism  Theravada   \n",
       "..                                                 ...       ...        ...   \n",
       "235  https://www.dhammatalks.org/suttas/SN/SN11_5.html  Buddhism  Theravada   \n",
       "236  https://www.dhammatalks.org/suttas/SN/SN11_14....  Buddhism  Theravada   \n",
       "237  https://www.dhammatalks.org/suttas/SN/SN11_15....  Buddhism  Theravada   \n",
       "238  https://www.dhammatalks.org/suttas/SN/SN11_22....  Buddhism  Theravada   \n",
       "239  https://www.dhammatalks.org/suttas/SN/SN11_24....  Buddhism  Theravada   \n",
       "\n",
       "           source  translation_source  \n",
       "0    Dhamma Talks  Thanissaro Bhikkhu  \n",
       "1    Dhamma Talks  Thanissaro Bhikkhu  \n",
       "2    Dhamma Talks  Thanissaro Bhikkhu  \n",
       "3    Dhamma Talks  Thanissaro Bhikkhu  \n",
       "4    Dhamma Talks  Thanissaro Bhikkhu  \n",
       "..            ...                 ...  \n",
       "235  Dhamma Talks  Thanissaro Bhikkhu  \n",
       "236  Dhamma Talks  Thanissaro Bhikkhu  \n",
       "237  Dhamma Talks  Thanissaro Bhikkhu  \n",
       "238  Dhamma Talks  Thanissaro Bhikkhu  \n",
       "239  Dhamma Talks  Thanissaro Bhikkhu  \n",
       "\n",
       "[240 rows x 8 columns]"
      ]
     },
     "execution_count": 9,
     "metadata": {},
     "output_type": "execute_result"
    }
   ],
   "source": [
    "data = pd.DataFrame([sutta.__dict__ for sutta in data])\n",
    "data.assign(\n",
    "    religion=\"Buddhism\",\n",
    "    subgroup=\"Theravada\",\n",
    "    source=\"Dhamma Talks\",\n",
    "    translation_source=\"Thanissaro Bhikkhu\",\n",
    ")"
   ]
  },
  {
   "cell_type": "code",
   "execution_count": 11,
   "id": "91f65c63",
   "metadata": {},
   "outputs": [],
   "source": [
    "data.to_csv(config.paths.suttas_data_file)"
   ]
  }
 ],
 "metadata": {
  "kernelspec": {
   "display_name": ".venv",
   "language": "python",
   "name": "python3"
  },
  "language_info": {
   "codemirror_mode": {
    "name": "ipython",
    "version": 3
   },
   "file_extension": ".py",
   "mimetype": "text/x-python",
   "name": "python",
   "nbconvert_exporter": "python",
   "pygments_lexer": "ipython3",
   "version": "3.13.2"
  }
 },
 "nbformat": 4,
 "nbformat_minor": 5
}
